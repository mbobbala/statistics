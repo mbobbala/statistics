{
 "cells": [
  {
   "cell_type": "markdown",
   "metadata": {},
   "source": [
    "## Coin Toss\n",
    "\n",
    "You toss a coin 30 times and see head 24 times. Is it a fair coin?\n",
    "\n",
    "What is the probability of getting 24 heads in 30 tosses ?\n",
    "\n",
    "Hacker's Approach\n",
    "Simulation. Run the experiment 100,000 times. Find the percentage of times the experiment returned 24 or more heads. If it is more than 5%, we conclude that the coin is biased.\n",
    "\n",
    "Source Link:\n",
    "https://github.com/rouseguy/intro2stats/blob/master/notebooks/2.%20Warm-up.ipynb\n"
   ]
  },
  {
   "cell_type": "code",
   "execution_count": 1,
   "metadata": {},
   "outputs": [
    {
     "data": {
      "text/plain": [
       "0.0"
      ]
     },
     "execution_count": 1,
     "metadata": {},
     "output_type": "execute_result"
    }
   ],
   "source": [
    "import numpy as np\n",
    "\n",
    "\n",
    "def headss24(n):\n",
    "    head24 = 0\n",
    "    for j in range(n):\n",
    "        head = 0\n",
    "        for i in range(30):\n",
    "            toss = np.random.randint(1,3)\n",
    "            if toss == 1: \n",
    "                head = head+1\n",
    "        if head == 24:\n",
    "            head24 == head24+1\n",
    "    return(head24/n)\n",
    "\n",
    "headss24(100)"
   ]
  },
  {
   "cell_type": "code",
   "execution_count": 2,
   "metadata": {},
   "outputs": [
    {
     "data": {
      "text/plain": [
       "array([[15],\n",
       "       [15],\n",
       "       [20],\n",
       "       [17],\n",
       "       [21]])"
      ]
     },
     "execution_count": 2,
     "metadata": {},
     "output_type": "execute_result"
    }
   ],
   "source": [
    "import numpy as np\n",
    "\n",
    "def coin_toss(n_tosses):\n",
    "    heads = np.empty([n_tosses,1],dtype = int)\n",
    "    for i in range(n_tosses):\n",
    "        chk = np.random.randint(0,2,30)\n",
    "        heads[i] = sum(chk)\n",
    "    return(heads)\n",
    "\n",
    "head_count = coin_toss(1000)\n",
    "head_count[:5]"
   ]
  },
  {
   "cell_type": "code",
   "execution_count": 3,
   "metadata": {},
   "outputs": [],
   "source": [
    "#Let's plot the above distribution\n",
    "import matplotlib.pyplot as plt\n",
    "%matplotlib inline\n",
    "import seaborn as sns\n",
    "sns.set(color_codes = True)"
   ]
  },
  {
   "cell_type": "code",
   "execution_count": 4,
   "metadata": {},
   "outputs": [
    {
     "data": {
      "text/plain": [
       "<matplotlib.axes._subplots.AxesSubplot at 0x7fd004aa7810>"
      ]
     },
     "execution_count": 4,
     "metadata": {},
     "output_type": "execute_result"
    },
    {
     "data": {
      "image/png": "[encoded data removed]",
      "text/plain": [
       "<Figure size 432x288 with 1 Axes>"
      ]
     },
     "metadata": {},
     "output_type": "display_data"
    }
   ],
   "source": [
    "sns.distplot(head_count, kde=False)"
   ]
  },
  {
   "cell_type": "code",
   "execution_count": 5,
   "metadata": {},
   "outputs": [
    {
     "data": {
      "text/plain": [
       "array([], dtype=int64)"
      ]
     },
     "execution_count": 5,
     "metadata": {},
     "output_type": "execute_result"
    }
   ],
   "source": [
    "# Num of times we 24 heads\n",
    "head_count[head_count == 24].shape[0]\n",
    "head_count[head_count >= 24]"
   ]
  },
  {
   "cell_type": "markdown",
   "metadata": {},
   "source": [
    "## As probability is less than 5% the coin is BIASED"
   ]
  },
  {
   "cell_type": "code",
   "execution_count": 6,
   "metadata": {},
   "outputs": [
    {
     "data": {
      "text/plain": [
       "(0.0,\n",
       " array([11, 15, 19, 15, 16, 15, 13, 16, 17, 12, 14, 17, 14, 14, 15, 16, 16,\n",
       "        13, 12, 18, 14, 12, 18, 18, 16, 20, 11, 12, 17, 13, 15, 17, 16, 13,\n",
       "        10, 15, 17, 14, 15, 17, 16, 16, 18, 15, 19, 17, 18, 20, 18, 17, 17,\n",
       "        14, 17, 10, 11, 17, 19, 10, 22, 11, 10, 19, 12, 16, 12, 13, 15, 21,\n",
       "        18, 14, 12, 16, 11, 18, 10, 16, 14, 13, 16, 11, 17, 17, 14, 16, 18,\n",
       "        20, 16, 13, 18, 10, 15, 17, 22, 14, 14, 14, 13, 16, 16, 15]))"
      ]
     },
     "execution_count": 6,
     "metadata": {},
     "output_type": "execute_result"
    }
   ],
   "source": [
    "import numpy as np\n",
    "# with out any for loops\n",
    "\n",
    "def coin_toss_2(n_tosses,times_to_repeat):\n",
    "    experiment = np.random.randint(0,2,[times_to_repeat,n_tosses])\n",
    "    heads = experiment.sum(axis=1)\n",
    "    prob24 = (heads[heads==24].shape[0])/times_to_repeat\n",
    "    return(prob24,heads)\n",
    "\n",
    "head_count = coin_toss_2(30,100)\n",
    "head_count"
   ]
  },
  {
   "cell_type": "code",
   "execution_count": 7,
   "metadata": {},
   "outputs": [
    {
     "name": "stdout",
     "output_type": "stream",
     "text": [
      "[[0 0 0 0 0]\n",
      " [1 0 0 0 0]\n",
      " [1 1 1 1 0]\n",
      " [1 1 1 1 1]\n",
      " [1 0 1 0 0]\n",
      " [0 0 0 1 0]\n",
      " [0 0 0 1 1]\n",
      " [1 0 1 1 1]\n",
      " [0 1 0 0 1]\n",
      " [1 1 1 0 0]]\n"
     ]
    },
    {
     "data": {
      "text/plain": [
       "array([0, 1, 4, 5, 2, 1, 2, 4, 2, 3])"
      ]
     },
     "execution_count": 7,
     "metadata": {},
     "output_type": "execute_result"
    }
   ],
   "source": [
    "experiment = np.random.randint(0,2,[10,5])\n",
    "print(experiment)\n",
    "experiment.sum(axis=1)"
   ]
  },
  {
   "cell_type": "code",
   "execution_count": null,
   "metadata": {},
   "outputs": [],
   "source": []
  }
 ],
 "metadata": {
  "kernelspec": {
   "display_name": "Python 3",
   "language": "python",
   "name": "python3"
  },
  "language_info": {
   "codemirror_mode": {
    "name": "ipython",
    "version": 3
   },
   "file_extension": ".py",
   "mimetype": "text/x-python",
   "name": "python",
   "nbconvert_exporter": "python",
   "pygments_lexer": "ipython3",
   "version": "3.7.6"
  }
 },
 "nbformat": 4,
 "nbformat_minor": 4
}
